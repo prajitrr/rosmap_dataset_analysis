{
 "cells": [
  {
   "cell_type": "code",
   "execution_count": 1,
   "metadata": {},
   "outputs": [],
   "source": [
    "import chemsource as cs\n",
    "import pandas as pd\n",
    "import re\n",
    "from tqdm import tqdm\n",
    "from ast import literal_eval\n",
    "from tqdm import tqdm\n",
    "\n",
    "from helpers import *\n",
    "\n",
    "tqdm.pandas()"
   ]
  },
  {
   "cell_type": "markdown",
   "metadata": {},
   "source": [
    "Configure chemsource Model"
   ]
  },
  {
   "cell_type": "code",
   "execution_count": 2,
   "metadata": {},
   "outputs": [
    {
     "data": {
      "text/plain": [
       "{'openai_key': '********************************************************************************************************************************************************************',\n",
       " 'ncbi_key': '************************************',\n",
       " 'model': 'gpt-4-0125-preview',\n",
       " 'prompt': 'Classify this compound, COMPOUND_NAME, as any combination of the following: MEDICAL, ENDOGENOUS, FOOD, PERSONAL CARE, INDUSTRIAL. Note that ENDOGENOUS refers to compounds that are human synthesized. ENDOGENOUS excludes essential nutrients that cannot be synthesized by human body. Note that FOOD refers to compounds present in natural food items. Note that INDUSTRIAL should be used only for compounds not used as a contributing ingredient in the medical, personal care, or food industries. Note that PERSONAL CARE refers to non-medicated compounds typically used for activities such as skincare, beauty, and fitness. Specify INFO instead if more information is needed. DO NOT MAKE ANY ASSUMPTIONS, USE ONLY THE INFORMATION PROVIDED. Provide the output as a plain text separated by commas, and provide only the categories listed (either list acombination of INDUSTRIAL, ENDOGENOUS, PERSONAL CARE, MEDICAL, FOOD or list INFO), with no justification. Provided Information:\\n',\n",
       " 'token_limit': 250000}"
      ]
     },
     "execution_count": 2,
     "metadata": {},
     "output_type": "execute_result"
    }
   ],
   "source": [
    "user_openai_key = pd.read_csv(\"api_keys.txt\", header=None).values[0][0]\n",
    "user_ncbi_key = pd.read_csv(\"api_keys.txt\", header=None).values[1][0]\n",
    "\n",
    "model = cs.ChemSource()\n",
    "model.configure(openai_key=user_openai_key, ncbi_key=user_ncbi_key)\n",
    "\n",
    "model.configuration()"
   ]
  },
  {
   "cell_type": "markdown",
   "metadata": {},
   "source": [
    "Read and Preprocess Data"
   ]
  },
  {
   "cell_type": "code",
   "execution_count": 6,
   "metadata": {},
   "outputs": [
    {
     "name": "stdout",
     "output_type": "stream",
     "text": [
      "Length of unfiltered dataset : 229\n",
      "Length of dataset (no duplicates): 174\n",
      "Length of dataset (after filtering): 153\n"
     ]
    }
   ],
   "source": [
    "raw_rosmap_data = pd.read_csv('data_in/ROSMAP_annotation_full_metadata_cleaned.tsv', sep='\\t')\n",
    "rosmap_data = raw_rosmap_data.copy()\n",
    "rosmap_data[\"synonyms\"] = raw_rosmap_data[\"synonyms\"].apply(literal_eval)   \n",
    "\n",
    "print(f\"Length of unfiltered dataset : {len(rosmap_data)}\")\n",
    "rosmap_data.drop_duplicates(subset=[\"compound_name\"], inplace=True)\n",
    "print(f\"Length of dataset (no duplicates): {len(rosmap_data)}\")\n",
    "\n",
    "rosmap_data[\"synonyms\"] = rosmap_data[\"synonyms\"].apply(lambda x: filter_synonym_list(x))\n",
    "rosmap_data[\"synonyms\"] = rosmap_data[\"synonyms\"].apply(lambda x: preprocessing_function_synonyms(x))\n",
    "rosmap_data = rosmap_data[rosmap_data[\"synonyms\"].map(len) > 0]\n",
    "\n",
    "rosmap_data[\"synonyms\"] = rosmap_data[\"synonyms\"].apply(lambda x: x[:6] if isinstance(x, list) else x)\n",
    "\n",
    "print(f\"Length of dataset (after filtering): {len(rosmap_data)}\")"
   ]
  },
  {
   "cell_type": "code",
   "execution_count": 12,
   "metadata": {},
   "outputs": [
    {
     "data": {
      "text/plain": [
       "0    [Histidine, H-his-oh, Glyoxaline-5-alanine, An...\n",
       "1    [N-acetyl-l-methionine, N-acetylmethionine, Ac...\n",
       "Name: synonyms, dtype: object"
      ]
     },
     "execution_count": 12,
     "metadata": {},
     "output_type": "execute_result"
    }
   ],
   "source": [
    "rosmap_data[\"synonyms\"][:2]"
   ]
  },
  {
   "cell_type": "code",
   "execution_count": 13,
   "metadata": {},
   "outputs": [
    {
     "name": "stderr",
     "output_type": "stream",
     "text": [
      "100%|██████████| 2/2 [00:02<00:00,  1.34s/it]\n"
     ]
    },
    {
     "data": {
      "text/plain": [
       "0    (Histidine, ((WIKIPEDIA, Histidine (symbol His...\n",
       "1    (N-acetyl-l-methionine, ((PUBMED,  Methionine ...\n",
       "Name: synonyms, dtype: object"
      ]
     },
     "execution_count": 13,
     "metadata": {},
     "output_type": "execute_result"
    }
   ],
   "source": []
  },
  {
   "cell_type": "code",
   "execution_count": 7,
   "metadata": {},
   "outputs": [
    {
     "data": {
      "text/html": [
       "<div>\n",
       "<style scoped>\n",
       "    .dataframe tbody tr th:only-of-type {\n",
       "        vertical-align: middle;\n",
       "    }\n",
       "\n",
       "    .dataframe tbody tr th {\n",
       "        vertical-align: top;\n",
       "    }\n",
       "\n",
       "    .dataframe thead th {\n",
       "        text-align: right;\n",
       "    }\n",
       "</style>\n",
       "<table border=\"1\" class=\"dataframe\">\n",
       "  <thead>\n",
       "    <tr style=\"text-align: right;\">\n",
       "      <th></th>\n",
       "      <th>compound_name</th>\n",
       "      <th>synonyms</th>\n",
       "    </tr>\n",
       "  </thead>\n",
       "  <tbody>\n",
       "    <tr>\n",
       "      <th>0</th>\n",
       "      <td>L-histidine</td>\n",
       "      <td>[Histidine, H-his-oh, Glyoxaline-5-alanine, An...</td>\n",
       "    </tr>\n",
       "    <tr>\n",
       "      <th>1</th>\n",
       "      <td>N-Acetyl-L-methionine</td>\n",
       "      <td>[N-acetyl-l-methionine, N-acetylmethionine, Ac...</td>\n",
       "    </tr>\n",
       "    <tr>\n",
       "      <th>2</th>\n",
       "      <td>SCHEMBL21797220</td>\n",
       "      <td>[(2r)-3-(octadecanoyloxy)-2-(tetradecanoyloxy)...</td>\n",
       "    </tr>\n",
       "    <tr>\n",
       "      <th>4</th>\n",
       "      <td>lactulose</td>\n",
       "      <td>[Lactulose, Bifiteral, Cephulac, Chronulac, Co...</td>\n",
       "    </tr>\n",
       "    <tr>\n",
       "      <th>6</th>\n",
       "      <td>Phenylacetylglutamine</td>\n",
       "      <td>[Phenylacetylglutamine, Phenylacetyl l-glutami...</td>\n",
       "    </tr>\n",
       "    <tr>\n",
       "      <th>...</th>\n",
       "      <td>...</td>\n",
       "      <td>...</td>\n",
       "    </tr>\n",
       "    <tr>\n",
       "      <th>221</th>\n",
       "      <td>Ephedrine</td>\n",
       "      <td>[Ephedrine, (-)-ephedrine, Ephedrin, L(-)-ephe...</td>\n",
       "    </tr>\n",
       "    <tr>\n",
       "      <th>222</th>\n",
       "      <td>DODECANEDIOIC ACID</td>\n",
       "      <td>[Dodecanedioic acid, Decamethylenedicarboxylic...</td>\n",
       "    </tr>\n",
       "    <tr>\n",
       "      <th>223</th>\n",
       "      <td>Lysyl-Isoleucine</td>\n",
       "      <td>[Lysyl-isoleucine, Lys-ile, H-lys-ile-oh, Isol...</td>\n",
       "    </tr>\n",
       "    <tr>\n",
       "      <th>224</th>\n",
       "      <td>Icariside F2</td>\n",
       "      <td>[Icariside f2, (2r,3s,4s,5r,6r)-2-[[(2r,3r,4r)...</td>\n",
       "    </tr>\n",
       "    <tr>\n",
       "      <th>227</th>\n",
       "      <td>Sinapaldehyde</td>\n",
       "      <td>[Sinapaldehyde, Sinapinaldehyde, Sinapyl aldeh...</td>\n",
       "    </tr>\n",
       "  </tbody>\n",
       "</table>\n",
       "<p>153 rows × 2 columns</p>\n",
       "</div>"
      ],
      "text/plain": [
       "             compound_name                                           synonyms\n",
       "0              L-histidine  [Histidine, H-his-oh, Glyoxaline-5-alanine, An...\n",
       "1    N-Acetyl-L-methionine  [N-acetyl-l-methionine, N-acetylmethionine, Ac...\n",
       "2          SCHEMBL21797220  [(2r)-3-(octadecanoyloxy)-2-(tetradecanoyloxy)...\n",
       "4                lactulose  [Lactulose, Bifiteral, Cephulac, Chronulac, Co...\n",
       "6    Phenylacetylglutamine  [Phenylacetylglutamine, Phenylacetyl l-glutami...\n",
       "..                     ...                                                ...\n",
       "221              Ephedrine  [Ephedrine, (-)-ephedrine, Ephedrin, L(-)-ephe...\n",
       "222     DODECANEDIOIC ACID  [Dodecanedioic acid, Decamethylenedicarboxylic...\n",
       "223       Lysyl-Isoleucine  [Lysyl-isoleucine, Lys-ile, H-lys-ile-oh, Isol...\n",
       "224           Icariside F2  [Icariside f2, (2r,3s,4s,5r,6r)-2-[[(2r,3r,4r)...\n",
       "227          Sinapaldehyde  [Sinapaldehyde, Sinapinaldehyde, Sinapyl aldeh...\n",
       "\n",
       "[153 rows x 2 columns]"
      ]
     },
     "execution_count": 7,
     "metadata": {},
     "output_type": "execute_result"
    }
   ],
   "source": [
    "rosmap_data"
   ]
  },
  {
   "cell_type": "code",
   "execution_count": 11,
   "metadata": {},
   "outputs": [
    {
     "data": {
      "text/plain": [
       "compound_name                                            Ephedrine\n",
       "synonyms         ['Ephedrine', 'l-Ephedrine', '(-)-Ephedrine', ...\n",
       "Name: 221, dtype: object"
      ]
     },
     "execution_count": 11,
     "metadata": {},
     "output_type": "execute_result"
    }
   ],
   "source": [
    "raw_rosmap_data.loc[221]"
   ]
  }
 ],
 "metadata": {
  "kernelspec": {
   "display_name": "chemsource",
   "language": "python",
   "name": "python3"
  },
  "language_info": {
   "codemirror_mode": {
    "name": "ipython",
    "version": 3
   },
   "file_extension": ".py",
   "mimetype": "text/x-python",
   "name": "python",
   "nbconvert_exporter": "python",
   "pygments_lexer": "ipython3",
   "version": "3.13.1"
  }
 },
 "nbformat": 4,
 "nbformat_minor": 2
}
