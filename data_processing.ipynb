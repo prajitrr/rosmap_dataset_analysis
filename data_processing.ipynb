{
 "cells": [
  {
   "cell_type": "code",
   "execution_count": 1,
   "metadata": {},
   "outputs": [],
   "source": [
    "import chemsource as cs\n",
    "import pandas as pd\n",
    "import re\n",
    "from tqdm import tqdm\n",
    "from ast import literal_eval\n",
    "from tqdm import tqdm\n",
    "\n",
    "from helpers import *\n",
    "\n",
    "tqdm.pandas()"
   ]
  },
  {
   "cell_type": "markdown",
   "metadata": {},
   "source": [
    "Configure chemsource Model"
   ]
  },
  {
   "cell_type": "code",
   "execution_count": 2,
   "metadata": {},
   "outputs": [
    {
     "data": {
      "text/plain": [
       "{'openai_key': '********************************************************************************************************************************************************************',\n",
       " 'ncbi_key': '************************************',\n",
       " 'model': 'gpt-4-0125-preview',\n",
       " 'prompt': 'Classify this compound, COMPOUND_NAME, as any combination of the following: MEDICAL, ENDOGENOUS, FOOD, PERSONAL CARE, INDUSTRIAL. Note that ENDOGENOUS refers to compounds that are human synthesized. ENDOGENOUS excludes essential nutrients that cannot be synthesized by human body. Note that FOOD refers to compounds present in natural food items. Note that INDUSTRIAL should be used only for compounds not used as a contributing ingredient in the medical, personal care, or food industries. Note that PERSONAL CARE refers to non-medicated compounds typically used for activities such as skincare, beauty, and fitness. Specify INFO instead if more information is needed. DO NOT MAKE ANY ASSUMPTIONS, USE ONLY THE INFORMATION PROVIDED. Provide the output as a plain text separated by commas, and provide only the categories listed (either list acombination of INDUSTRIAL, ENDOGENOUS, PERSONAL CARE, MEDICAL, FOOD or list INFO), with no justification. Provided Information:\\n',\n",
       " 'token_limit': 250000}"
      ]
     },
     "execution_count": 2,
     "metadata": {},
     "output_type": "execute_result"
    }
   ],
   "source": [
    "user_openai_key = pd.read_csv(\"api_keys.txt\", header=None).values[0][0]\n",
    "user_ncbi_key = pd.read_csv(\"api_keys.txt\", header=None).values[1][0]\n",
    "\n",
    "model = cs.ChemSource()\n",
    "model.configure(openai_key=user_openai_key, ncbi_key=user_ncbi_key)\n",
    "\n",
    "model.configuration()"
   ]
  },
  {
   "cell_type": "markdown",
   "metadata": {},
   "source": [
    "Read and Preprocess Data"
   ]
  },
  {
   "cell_type": "code",
   "execution_count": 6,
   "metadata": {},
   "outputs": [
    {
     "name": "stdout",
     "output_type": "stream",
     "text": [
      "Length of unfiltered dataset : 229\n",
      "Length of dataset (no duplicates): 174\n",
      "Length of dataset (after filtering): 153\n"
     ]
    }
   ],
   "source": [
    "raw_rosmap_data = pd.read_csv('data_in/ROSMAP_annotation_full_metadata_cleaned.tsv', sep='\\t')\n",
    "rosmap_data = raw_rosmap_data.copy()\n",
    "rosmap_data[\"synonyms\"] = raw_rosmap_data[\"synonyms\"].apply(literal_eval)   \n",
    "\n",
    "print(f\"Length of unfiltered dataset : {len(rosmap_data)}\")\n",
    "rosmap_data.drop_duplicates(subset=[\"compound_name\"], inplace=True)\n",
    "print(f\"Length of dataset (no duplicates): {len(rosmap_data)}\")\n",
    "\n",
    "rosmap_data[\"synonyms\"] = rosmap_data[\"synonyms\"].apply(lambda x: filter_synonym_list(x))\n",
    "rosmap_data[\"synonyms\"] = rosmap_data[\"synonyms\"].apply(lambda x: preprocessing_function_synonyms(x))\n",
    "rosmap_data = rosmap_data[rosmap_data[\"synonyms\"].map(len) > 0]\n",
    "\n",
    "rosmap_data[\"synonyms\"] = rosmap_data[\"synonyms\"].apply(lambda x: x[:6] if isinstance(x, list) else x)\n",
    "\n",
    "print(f\"Length of dataset (after filtering): {len(rosmap_data)}\")"
   ]
  },
  {
   "cell_type": "markdown",
   "metadata": {},
   "source": [
    "Run Model and Output Data"
   ]
  },
  {
   "cell_type": "code",
   "execution_count": 14,
   "metadata": {},
   "outputs": [
    {
     "name": "stderr",
     "output_type": "stream",
     "text": [
      " 25%|██▌       | 39/153 [01:34<05:30,  2.90s/it]/home/prajitrr/miniconda3/envs/chemsource/lib/python3.13/site-packages/wikipedia/wikipedia.py:389: GuessedAtParserWarning: No parser was explicitly specified, so I'm using the best available HTML parser for this system (\"lxml\"). This usually isn't a problem, but if you run this code on another system, or in a different virtual environment, it may use a different parser and behave differently.\n",
      "\n",
      "The code that caused this warning is on line 389 of the file /home/prajitrr/miniconda3/envs/chemsource/lib/python3.13/site-packages/wikipedia/wikipedia.py. To get rid of this warning, pass the additional argument 'features=\"lxml\"' to the BeautifulSoup constructor.\n",
      "\n",
      "  lis = BeautifulSoup(html).find_all('li')\n",
      "100%|██████████| 153/153 [06:57<00:00,  2.73s/it]\n"
     ]
    }
   ],
   "source": [
    "#Code is commented out to avoid running multiple times and wasting API credits\n",
    "# rosmap_data[\"chemsource_raw_output\"] = rosmap_data[\"synonyms\"].progress_apply(lambda x : chemsource_list_apply(x, model))\n",
    "# rosmap_data.to_csv(\"./data_out/rosmap_data_chemsource_raw_output.tsv\", sep=\"\\t\")"
   ]
  },
  {
   "cell_type": "markdown",
   "metadata": {},
   "source": [
    "Process Raw Output"
   ]
  },
  {
   "cell_type": "code",
   "execution_count": 34,
   "metadata": {},
   "outputs": [],
   "source": [
    "rosmap_data_raw_output = pd.read_csv(\"./data_out/rosmap_data_chemsource_raw_output.tsv\", sep=\"\\t\", index_col=0)\n",
    "rosmap_data_raw_output[\"chemsource_raw_output\"] = rosmap_data_raw_output[\"chemsource_raw_output\"].apply(literal_eval)\n",
    "rosmap_data_raw_output[\"synonyms\"] = rosmap_data_raw_output[\"synonyms\"].apply(literal_eval)   \n",
    "\n",
    "rosmap_data_raw_output[\"name_used\"] = rosmap_data_raw_output[\"chemsource_raw_output\"].apply(lambda x: x[0])\n",
    "rosmap_data_raw_output[\"source\"] = rosmap_data_raw_output[\"chemsource_raw_output\"].apply(lambda x: x[1][0][0])\n",
    "rosmap_data_raw_output[\"text\"] = rosmap_data_raw_output[\"chemsource_raw_output\"].apply(lambda x: x[1][0][1])\n",
    "rosmap_data_raw_output[\"text_length\"] = rosmap_data_raw_output[\"text\"].apply(lambda x: get_length(x))\n",
    "rosmap_data_raw_output[\"classification\"] = rosmap_data_raw_output[\"chemsource_raw_output\"].apply(lambda x: x[1][1])"
   ]
  },
  {
   "cell_type": "code",
   "execution_count": null,
   "metadata": {},
   "outputs": [],
   "source": [
    "#Code is commented out to avoid running multiple times\n",
    "# rosmap_data_raw_output.to_csv(\"./data_out/rosmap_data_final_output.tsv\", sep=\"\\t\")"
   ]
  },
  {
   "cell_type": "code",
   "execution_count": null,
   "metadata": {},
   "outputs": [],
   "source": []
  }
 ],
 "metadata": {
  "kernelspec": {
   "display_name": "chemsource",
   "language": "python",
   "name": "python3"
  },
  "language_info": {
   "codemirror_mode": {
    "name": "ipython",
    "version": 3
   },
   "file_extension": ".py",
   "mimetype": "text/x-python",
   "name": "python",
   "nbconvert_exporter": "python",
   "pygments_lexer": "ipython3",
   "version": "3.13.1"
  }
 },
 "nbformat": 4,
 "nbformat_minor": 2
}
